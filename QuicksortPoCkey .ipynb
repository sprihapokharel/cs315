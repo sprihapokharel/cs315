{
  "nbformat": 4,
  "nbformat_minor": 0,
  "metadata": {
    "colab": {
      "provenance": [],
      "include_colab_link": true
    },
    "kernelspec": {
      "name": "python3",
      "display_name": "Python 3"
    },
    "language_info": {
      "name": "python"
    }
  },
  "cells": [
    {
      "cell_type": "markdown",
      "metadata": {
        "id": "view-in-github",
        "colab_type": "text"
      },
      "source": [
        "<a href=\"https://colab.research.google.com/github/sprihapokharel/cs315/blob/main/QuicksortPoCkey%20.ipynb\" target=\"_parent\"><img src=\"https://colab.research.google.com/assets/colab-badge.svg\" alt=\"Open In Colab\"/></a>"
      ]
    },
    {
      "cell_type": "code",
      "source": [
        "# Name: Spriha Pokharel\n",
        "# Date: 10/05/25\n",
        "# Class: CS315 (FA25)\n",
        "# Homework 04: Quick sort"
      ],
      "metadata": {
        "id": "TlcS8u0xwtHD"
      },
      "execution_count": 49,
      "outputs": []
    },
    {
      "cell_type": "code",
      "execution_count": 50,
      "metadata": {
        "id": "t_LwP80OmwFK"
      },
      "outputs": [],
      "source": [
        "# Template for testing Quick-Sort on small lists, outputing each intermediate step"
      ]
    },
    {
      "cell_type": "code",
      "source": [
        "\n",
        "import time\n",
        "import random\n",
        "import math\n"
      ],
      "metadata": {
        "id": "LMcLd_etm-0Y"
      },
      "execution_count": 51,
      "outputs": []
    },
    {
      "cell_type": "code",
      "source": [
        "# Quicksort implementation\n",
        "\n",
        "def partition(A, p, r):\n",
        "    x = A[r]\n",
        "    i = p - 1\n",
        "    for j in range(p, r):\n",
        "        if A[j] <= x:\n",
        "            i += 1\n",
        "            A[i], A[j] = A[j], A[i]\n",
        "    A[i + 1], A[r] = A[r], A[i + 1]\n",
        "    return i + 1\n",
        "\n",
        "\n",
        "def _Quicksort(A, p, r):\n",
        "    if p < r:\n",
        "        q = partition(A, p, r)\n",
        "        _Quicksort(A, p, q - 1)\n",
        "        _Quicksort(A, q + 1, r)\n",
        "\n",
        "\n",
        "def Quicksort(A):\n",
        "    _Quicksort(A, 0, len(A) - 1)"
      ],
      "metadata": {
        "id": "TyWIYm1_nIYR"
      },
      "execution_count": 52,
      "outputs": []
    },
    {
      "cell_type": "code",
      "source": [
        "# Random data\n",
        "\n",
        "for n in [100, 200, 400, 800]:\n",
        "\n",
        "    expected_time = n * math.log2(n) if n > 1 else n\n",
        "\n",
        "    my_list = [random.randrange(n) for _ in range(n)]\n",
        "\n",
        "    start_time = time.time()\n",
        "    Quicksort(my_list)\n",
        "    end_time = time.time()\n",
        "\n",
        "    elapsed_time = end_time - start_time\n",
        "    ratio = elapsed_time / expected_time if expected_time > 0 else 0\n",
        "\n",
        "    print(f\"N: {n:<5} | Time: {elapsed_time:<.6f} | Ratio: {ratio:.2e}\")"
      ],
      "metadata": {
        "id": "neX-YNcPnLpk",
        "colab": {
          "base_uri": "https://localhost:8080/"
        },
        "outputId": "d5cd6314-27b6-4014-8128-dc5359ade131"
      },
      "execution_count": 53,
      "outputs": [
        {
          "output_type": "stream",
          "name": "stdout",
          "text": [
            "N: 100   | Time: 0.000062 | Ratio: 9.33e-08\n",
            "N: 200   | Time: 0.000131 | Ratio: 8.56e-08\n",
            "N: 400   | Time: 0.000372 | Ratio: 1.08e-07\n",
            "N: 800   | Time: 0.000947 | Ratio: 1.23e-07\n"
          ]
        }
      ]
    },
    {
      "cell_type": "code",
      "source": [
        "# Sorted data\n",
        "\n",
        "for n in [100, 200, 400, 800]:\n",
        "    # Define the theoretical time for the worst case (N^2)\n",
        "    expected_time = math.pow(n, 2)\n",
        "\n",
        "    my_list = list(range(n))\n",
        "\n",
        "    start_time = time.time()\n",
        "    Quicksort(my_list)\n",
        "    end_time = time.time()\n",
        "\n",
        "    elapsed_time = end_time - start_time\n",
        "    ratio = elapsed_time / expected_time if expected_time > 0 else 0\n",
        "\n",
        "    print(f\"N: {n:<5} | Time: {elapsed_time:<.6f} | Ratio: {ratio:.2e}\")"
      ],
      "metadata": {
        "colab": {
          "base_uri": "https://localhost:8080/"
        },
        "id": "RVXFjLS0nCeo",
        "outputId": "7df46694-0bc7-4cd1-87fd-72450ec4d99d"
      },
      "execution_count": 54,
      "outputs": [
        {
          "output_type": "stream",
          "name": "stdout",
          "text": [
            "N: 100   | Time: 0.000445 | Ratio: 4.45e-08\n",
            "N: 200   | Time: 0.001518 | Ratio: 3.79e-08\n",
            "N: 400   | Time: 0.007616 | Ratio: 4.76e-08\n",
            "N: 800   | Time: 0.030073 | Ratio: 4.70e-08\n"
          ]
        }
      ]
    }
  ]
}