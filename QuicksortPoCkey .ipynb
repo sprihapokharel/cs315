{
  "nbformat": 4,
  "nbformat_minor": 0,
  "metadata": {
    "colab": {
      "provenance": [],
      "include_colab_link": true
    },
    "kernelspec": {
      "name": "python3",
      "display_name": "Python 3"
    },
    "language_info": {
      "name": "python"
    }
  },
  "cells": [
    {
      "cell_type": "markdown",
      "metadata": {
        "id": "view-in-github",
        "colab_type": "text"
      },
      "source": [
        "<a href=\"https://colab.research.google.com/github/sprihapokharel/cs315/blob/main/QuicksortPoCkey%20.ipynb\" target=\"_parent\"><img src=\"https://colab.research.google.com/assets/colab-badge.svg\" alt=\"Open In Colab\"/></a>"
      ]
    },
    {
      "cell_type": "code",
      "execution_count": 6,
      "metadata": {
        "id": "t_LwP80OmwFK"
      },
      "outputs": [],
      "source": [
        "# Template for testing Quick-Sort on small lists, outputing each intermediate step"
      ]
    },
    {
      "cell_type": "code",
      "source": [
        "import time\n",
        "import random\n",
        "\n",
        "A = False"
      ],
      "metadata": {
        "id": "LMcLd_etm-0Y"
      },
      "execution_count": 7,
      "outputs": []
    },
    {
      "cell_type": "code",
      "source": [
        "def partition(arr, low, high):\n",
        "    pivot = arr[high]\n",
        "    i = low - 1\n",
        "    for j in range(low, high):\n",
        "        if arr[j] <= pivot:\n",
        "            i += 1\n",
        "            arr[i], arr[j] = arr[j], arr[i]\n",
        "    arr[i + 1], arr[high] = arr[high], arr[i + 1]\n",
        "    return i + 1\n",
        "\n",
        "def quicksort_recursive(arr, low, high):\n",
        "    if low < high:\n",
        "        pi = partition(arr, low, high)\n",
        "        quicksort_recursive(arr, low, pi - 1)\n",
        "        quicksort_recursive(arr, pi + 1, high)"
      ],
      "metadata": {
        "id": "TyWIYm1_nIYR"
      },
      "execution_count": 8,
      "outputs": []
    },
    {
      "cell_type": "code",
      "source": [
        "# Random data\n",
        "\n",
        "N = [100, 200, 400, 800]\n",
        "for n in N:\n",
        "    my_list = [random.randrange(n) for _ in range(n)]\n",
        "    if A: print(\"Before:\", my_list)\n",
        "\n",
        "    start_time = time.time()\n",
        "    quicksort_recursive(my_list, 0, n - 1)\n",
        "    end_time = time.time()\n",
        "\n",
        "    if A: print(\"After: \", my_list)\n",
        "    print(f\"N={n}, Time={end_time - start_time:.6f} sec\")"
      ],
      "metadata": {
        "id": "neX-YNcPnLpk",
        "colab": {
          "base_uri": "https://localhost:8080/"
        },
        "outputId": "aac09523-f176-4be1-a50b-400859b855cf"
      },
      "execution_count": 9,
      "outputs": [
        {
          "output_type": "stream",
          "name": "stdout",
          "text": [
            "N=100, Time=0.000106 sec\n",
            "N=200, Time=0.000235 sec\n",
            "N=400, Time=0.000637 sec\n",
            "N=800, Time=0.001538 sec\n"
          ]
        }
      ]
    },
    {
      "cell_type": "code",
      "source": [
        "# Sorted data\n",
        "\n",
        "\n",
        "for n in N:\n",
        "    my_list = list(range(n))\n",
        "    if A: print(\"Before:\", my_list)\n",
        "\n",
        "    start_time = time.time()\n",
        "    quicksort_recursive(my_list, 0, n - 1)\n",
        "    end_time = time.time()\n",
        "\n",
        "    if A: print(\"After: \", my_list)\n",
        "    print(f\"N={n}, Time={end_time - start_time:.6f} sec\")"
      ],
      "metadata": {
        "colab": {
          "base_uri": "https://localhost:8080/"
        },
        "id": "RVXFjLS0nCeo",
        "outputId": "1e29447e-2913-4a23-97c1-bac489292c93"
      },
      "execution_count": 10,
      "outputs": [
        {
          "output_type": "stream",
          "name": "stdout",
          "text": [
            "N=100, Time=0.000697 sec\n",
            "N=200, Time=0.003443 sec\n",
            "N=400, Time=0.013281 sec\n",
            "N=800, Time=0.043657 sec\n"
          ]
        }
      ]
    }
  ]
}