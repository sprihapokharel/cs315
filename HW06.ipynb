{
  "nbformat": 4,
  "nbformat_minor": 0,
  "metadata": {
    "colab": {
      "provenance": [],
      "authorship_tag": "ABX9TyO1N3nHb90VCph+2K1k6E76",
      "include_colab_link": true
    },
    "kernelspec": {
      "name": "python3",
      "display_name": "Python 3"
    },
    "language_info": {
      "name": "python"
    }
  },
  "cells": [
    {
      "cell_type": "markdown",
      "metadata": {
        "id": "view-in-github",
        "colab_type": "text"
      },
      "source": [
        "<a href=\"https://colab.research.google.com/github/sprihapokharel/cs315/blob/main/HW06.ipynb\" target=\"_parent\"><img src=\"https://colab.research.google.com/assets/colab-badge.svg\" alt=\"Open In Colab\"/></a>"
      ]
    },
    {
      "cell_type": "code",
      "execution_count": 22,
      "metadata": {
        "id": "GuFjf07lFzjp"
      },
      "outputs": [],
      "source": [
        "# Name: Spriha Pokharel\n",
        "# Date: 10/31/2025\n",
        "# Class: Algorithms & Analysis (FA25)\n",
        "# Homework 06"
      ]
    },
    {
      "cell_type": "code",
      "source": [
        "import random\n",
        "import time\n",
        "import math\n",
        "\n",
        "# Implementing the code for quick-select\n",
        "def quickselect(A, i):\n",
        "\n",
        "    if len(A) == 1: # if list has only one element\n",
        "        return A[0]\n",
        "\n",
        "    pivot = random.choice(A)\n",
        "\n",
        "    lows = [x for x in A if x < pivot]\n",
        "    highs = [x for x in A if x > pivot]\n",
        "    pivots = [x for x in A if x == pivot]\n",
        "\n",
        "    if i <= len(lows):\n",
        "        return quickselect(lows, i)\n",
        "\n",
        "    elif i <= len(lows) + len(pivots):\n",
        "        return pivot\n",
        "\n",
        "    else:\n",
        "        return quickselect(highs, i - len(lows) - len(pivots))"
      ],
      "metadata": {
        "id": "eK91RXVCGCfT"
      },
      "execution_count": 23,
      "outputs": []
    },
    {
      "cell_type": "code",
      "source": [
        "# Testing on random data (average case, theoretically O(n))\n",
        "\n",
        "print(f\"{'N':<10} | {'Time (s)':<12} | {'Ratio (Time / N)':<18}\")\n",
        "print(\"-\" * 44)\n",
        "\n",
        "for N in [10000, 50000, 100000, 500000, 1000000]:\n",
        "\n",
        "    A = list(range(N))\n",
        "    random.shuffle(A)\n",
        "\n",
        "    # Timing the algorithm\n",
        "    start_time = time.time()\n",
        "    quickselect(A, (N // 2) + 1)\n",
        "    end_time = time.time()\n",
        "\n",
        "    time_taken = end_time - start_time\n",
        "\n",
        "    ratio = time_taken / N\n",
        "\n",
        "    print(f\"{N:<10} | {time_taken:<12.6f} | {ratio:<18.4e}\")"
      ],
      "metadata": {
        "colab": {
          "base_uri": "https://localhost:8080/"
        },
        "id": "iaGFOz43LpZT",
        "outputId": "8e91e183-6bbf-4c69-d32d-f6d622d8e105"
      },
      "execution_count": 24,
      "outputs": [
        {
          "output_type": "stream",
          "name": "stdout",
          "text": [
            "N          | Time (s)     | Ratio (Time / N)  \n",
            "--------------------------------------------\n",
            "10000      | 0.004928     | 4.9279e-07        \n",
            "50000      | 0.016495     | 3.2990e-07        \n",
            "100000     | 0.060332     | 6.0332e-07        \n",
            "500000     | 0.288705     | 5.7741e-07        \n",
            "1000000    | 1.441025     | 1.4410e-06        \n"
          ]
        }
      ]
    },
    {
      "cell_type": "code",
      "source": [
        "# Testing on sorted data\n",
        "\n",
        "print(f\"{'N':<10} | {'Time (s)':<12} | {'Ratio (Time / N)':<18}\")\n",
        "print(\"-\" * 44)\n",
        "\n",
        "for N in [10000, 50000, 100000, 500000, 1000000]:\n",
        "\n",
        "    A = list(range(N))\n",
        "\n",
        "    # Timing the algorithm\n",
        "    start_time = time.time()\n",
        "    quickselect(A, (N // 2) + 1)\n",
        "    end_time = time.time()\n",
        "\n",
        "    time_taken = end_time - start_time\n",
        "    ratio = time_taken / N\n",
        "\n",
        "    print(f\"{N:<10} | {time_taken:<12.6f} | {ratio:<18.4e}\")"
      ],
      "metadata": {
        "colab": {
          "base_uri": "https://localhost:8080/"
        },
        "id": "jrsRaa7ROTfB",
        "outputId": "c0838a88-12ce-427e-8a9f-366b86444006"
      },
      "execution_count": 25,
      "outputs": [
        {
          "output_type": "stream",
          "name": "stdout",
          "text": [
            "N          | Time (s)     | Ratio (Time / N)  \n",
            "--------------------------------------------\n",
            "10000      | 0.002625     | 2.6255e-07        \n",
            "50000      | 0.024000     | 4.8000e-07        \n",
            "100000     | 0.028496     | 2.8496e-07        \n",
            "500000     | 0.093724     | 1.8745e-07        \n",
            "1000000    | 0.174067     | 1.7407e-07        \n"
          ]
        }
      ]
    },
    {
      "cell_type": "code",
      "source": [
        "# Test on reverse sorted data\n",
        "\n",
        "print(f\"{'N':<10} | {'Time (s)':<12} | {'Ratio (Time / N)':<18}\")\n",
        "print(\"-\" * 44)\n",
        "\n",
        "for N in [10000, 50000, 100000, 500000, 1000000]:\n",
        "\n",
        "    A = list(range(N - 1, -1, -1))\n",
        "\n",
        "    # Timing the algorithm\n",
        "    start_time = time.time()\n",
        "    quickselect(A, (N // 2) + 1)\n",
        "    end_time = time.time()\n",
        "\n",
        "    time_taken = end_time - start_time\n",
        "    ratio = time_taken / N\n",
        "\n",
        "    print(f\"{N:<10} | {time_taken:<12.6f} | {ratio:<18.4e}\")"
      ],
      "metadata": {
        "colab": {
          "base_uri": "https://localhost:8080/"
        },
        "id": "TbFpJPt_O3Km",
        "outputId": "8b54471a-c875-4857-ba5c-fddcd06e9198"
      },
      "execution_count": 26,
      "outputs": [
        {
          "output_type": "stream",
          "name": "stdout",
          "text": [
            "N          | Time (s)     | Ratio (Time / N)  \n",
            "--------------------------------------------\n",
            "10000      | 0.004954     | 4.9541e-07        \n",
            "50000      | 0.017175     | 3.4350e-07        \n",
            "100000     | 0.022737     | 2.2737e-07        \n",
            "500000     | 0.117469     | 2.3494e-07        \n",
            "1000000    | 0.222448     | 2.2245e-07        \n"
          ]
        }
      ]
    }
  ]
}