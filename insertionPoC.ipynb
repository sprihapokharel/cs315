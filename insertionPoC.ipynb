{
  "nbformat": 4,
  "nbformat_minor": 0,
  "metadata": {
    "colab": {
      "provenance": [],
      "include_colab_link": true
    },
    "kernelspec": {
      "name": "python3",
      "display_name": "Python 3"
    },
    "language_info": {
      "name": "python"
    }
  },
  "cells": [
    {
      "cell_type": "markdown",
      "metadata": {
        "id": "view-in-github",
        "colab_type": "text"
      },
      "source": [
        "<a href=\"https://colab.research.google.com/github/sprihapokharel/cs315/blob/main/insertionPoC.ipynb\" target=\"_parent\"><img src=\"https://colab.research.google.com/assets/colab-badge.svg\" alt=\"Open In Colab\"/></a>"
      ]
    },
    {
      "cell_type": "code",
      "execution_count": 1,
      "metadata": {
        "id": "tZGwopH4Y7oL"
      },
      "outputs": [],
      "source": [
        "# Template for testing Insertion-Sort on small lists, outputing each intermediate step"
      ]
    },
    {
      "cell_type": "code",
      "source": [
        "import random\n",
        "import time"
      ],
      "metadata": {
        "id": "fSME9MywceAq"
      },
      "execution_count": 2,
      "outputs": []
    },
    {
      "cell_type": "code",
      "source": [
        "def insertion_sort(arr):\n",
        "    for i in range(1, len(arr)):\n",
        "        key = arr[i]\n",
        "        j = i - 1\n",
        "        while j >= 0 and key < arr[j]:\n",
        "            arr[j + 1] = arr[j]\n",
        "            j -= 1\n",
        "        arr[j + 1] = key\n",
        "\n",
        "# For your convenience, here is the psuedocode from the textbook for Insertion-Sort\n",
        "# You can adapt it for this problem, there aren't many changes required\n",
        "# Note that N is defined in a different execution group and doesn't need to be a parameter\n",
        "# Also, it is nice to have a boolean flag controlling whether the intermediate result is printed\n",
        "# The psuedocode is written to be \"in-place,\" so the input list changes\n",
        "\n",
        "#    key = A[i]\n",
        "# insert A[i] into sorted seq A[1]..A[i-1]\n",
        "#    j = i-1\n",
        "#    while j>0 and A[j]>key:\n",
        "#       A[j+1] = A[j]\n",
        "#       j = j-1\n",
        "#    A[j+1] = key"
      ],
      "metadata": {
        "id": "TJZL4jFQZhAp"
      },
      "execution_count": 3,
      "outputs": []
    },
    {
      "cell_type": "code",
      "source": [
        "N=8\n",
        "A = list(range(N))\n",
        "\n",
        "random.shuffle(A)\n",
        "\n",
        "print(A)\n",
        "insertion_sort(A)\n",
        "print(A)"
      ],
      "metadata": {
        "colab": {
          "base_uri": "https://localhost:8080/"
        },
        "id": "f1GS3NjwZqmS",
        "outputId": "7c7b0e4f-cae7-49f8-e1c5-100a76341746"
      },
      "execution_count": 4,
      "outputs": [
        {
          "output_type": "stream",
          "name": "stdout",
          "text": [
            "[3, 4, 7, 6, 1, 5, 0, 2]\n",
            "[0, 1, 2, 3, 4, 5, 6, 7]\n"
          ]
        }
      ]
    },
    {
      "cell_type": "code",
      "source": [
        "# Timing on random data\n",
        "\n",
        "N = [500, 1000, 2000, 4000, 8000]\n",
        "for n in N:\n",
        "    my_list = [random.randrange(n) for _ in range(n)]\n",
        "    start_time = time.time()\n",
        "    insertion_sort(my_list)\n",
        "    end_time = time.time()\n",
        "    print(f\"N={n}, Time={end_time - start_time:.6f} sec\")"
      ],
      "metadata": {
        "id": "gy6XS-wYcfx_",
        "outputId": "3b408478-0751-4ff4-e64f-e08867b97460",
        "colab": {
          "base_uri": "https://localhost:8080/"
        }
      },
      "execution_count": 5,
      "outputs": [
        {
          "output_type": "stream",
          "name": "stdout",
          "text": [
            "N=500, Time=0.005643 sec\n",
            "N=1000, Time=0.029769 sec\n",
            "N=2000, Time=0.168007 sec\n",
            "N=4000, Time=0.666302 sec\n",
            "N=8000, Time=2.962419 sec\n"
          ]
        }
      ]
    },
    {
      "cell_type": "code",
      "source": [
        "# Timing on sorted data\n",
        "\n",
        "for n in N:\n",
        "    my_list = list(range(n))\n",
        "    start_time = time.time()\n",
        "    insertion_sort(my_list)\n",
        "    end_time = time.time()\n",
        "    print(f\"N={n}, Time={end_time - start_time:.6f} sec\")"
      ],
      "metadata": {
        "id": "1zrY7IKCcit-",
        "outputId": "0182dc77-f0e4-471d-cdfe-c4a5e6660db2",
        "colab": {
          "base_uri": "https://localhost:8080/"
        }
      },
      "execution_count": 6,
      "outputs": [
        {
          "output_type": "stream",
          "name": "stdout",
          "text": [
            "N=500, Time=0.000055 sec\n",
            "N=1000, Time=0.000113 sec\n",
            "N=2000, Time=0.000240 sec\n",
            "N=4000, Time=0.000475 sec\n",
            "N=8000, Time=0.001316 sec\n"
          ]
        }
      ]
    }
  ]
}