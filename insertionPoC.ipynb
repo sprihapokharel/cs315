{
  "nbformat": 4,
  "nbformat_minor": 0,
  "metadata": {
    "colab": {
      "provenance": [],
      "include_colab_link": true
    },
    "kernelspec": {
      "name": "python3",
      "display_name": "Python 3"
    },
    "language_info": {
      "name": "python"
    }
  },
  "cells": [
    {
      "cell_type": "markdown",
      "metadata": {
        "id": "view-in-github",
        "colab_type": "text"
      },
      "source": [
        "<a href=\"https://colab.research.google.com/github/sprihapokharel/cs315/blob/main/insertionPoC.ipynb\" target=\"_parent\"><img src=\"https://colab.research.google.com/assets/colab-badge.svg\" alt=\"Open In Colab\"/></a>"
      ]
    },
    {
      "cell_type": "code",
      "execution_count": 7,
      "metadata": {
        "id": "tZGwopH4Y7oL"
      },
      "outputs": [],
      "source": [
        "# Template for testing Insertion-Sort on small lists, outputing each intermediate step"
      ]
    },
    {
      "cell_type": "code",
      "source": [
        "import random\n",
        "import time\n",
        "import math"
      ],
      "metadata": {
        "id": "fSME9MywceAq"
      },
      "execution_count": 8,
      "outputs": []
    },
    {
      "cell_type": "code",
      "source": [
        "# Implementation of insertion sort\n",
        "\n",
        "def insertion_sort(arr):\n",
        "    for i in range(1, len(arr)):\n",
        "        key = arr[i]\n",
        "        j = i - 1\n",
        "        while j >= 0 and key < arr[j]:\n",
        "            arr[j + 1] = arr[j]\n",
        "            j -= 1\n",
        "        arr[j + 1] = key\n",
        "\n",
        "# For your convenience, here is the psuedocode from the textbook for Insertion-Sort\n",
        "# You can adapt it for this problem, there aren't many changes required\n",
        "# Note that N is defined in a different execution group and doesn't need to be a parameter\n",
        "# Also, it is nice to have a boolean flag controlling whether the intermediate result is printed\n",
        "# The psuedocode is written to be \"in-place,\" so the input list changes\n",
        "\n",
        "#    key = A[i]\n",
        "# insert A[i] into sorted seq A[1]..A[i-1]\n",
        "#    j = i-1\n",
        "#    while j>0 and A[j]>key:\n",
        "#       A[j+1] = A[j]\n",
        "#       j = j-1\n",
        "#    A[j+1] = key"
      ],
      "metadata": {
        "id": "TJZL4jFQZhAp"
      },
      "execution_count": 9,
      "outputs": []
    },
    {
      "cell_type": "code",
      "source": [
        "N=8\n",
        "A = list(range(N))\n",
        "\n",
        "random.shuffle(A)\n",
        "\n",
        "print(A)\n",
        "insertion_sort(A)\n",
        "print(A)"
      ],
      "metadata": {
        "colab": {
          "base_uri": "https://localhost:8080/"
        },
        "id": "f1GS3NjwZqmS",
        "outputId": "4dffa1e2-82f1-4fa5-8b30-5832e791edf8"
      },
      "execution_count": 10,
      "outputs": [
        {
          "output_type": "stream",
          "name": "stdout",
          "text": [
            "[3, 6, 1, 4, 0, 5, 7, 2]\n",
            "[0, 1, 2, 3, 4, 5, 6, 7]\n"
          ]
        }
      ]
    },
    {
      "cell_type": "code",
      "source": [
        "# Timing on random data\n",
        "\n",
        "N = [500, 1000, 2000, 4000, 8000]\n",
        "for n in N:\n",
        "\n",
        "    expected_time=math.pow(n, 2)\n",
        "\n",
        "    my_list = [random.randrange(n) for _ in range(n)]\n",
        "    start_time = time.time()\n",
        "    insertion_sort(my_list)\n",
        "    end_time = time.time()\n",
        "\n",
        "    elapsed_time = end_time - start_time\n",
        "    ratio = elapsed_time / expected_time\n",
        "\n",
        "    print(f\"N: {n:<5} | Time: {elapsed_time:<.6f} | Ratio: {ratio:.2e}\")"
      ],
      "metadata": {
        "id": "gy6XS-wYcfx_",
        "outputId": "597640ad-84e2-4ae2-f479-303ab091a9b9",
        "colab": {
          "base_uri": "https://localhost:8080/"
        }
      },
      "execution_count": 11,
      "outputs": [
        {
          "output_type": "stream",
          "name": "stdout",
          "text": [
            "N: 500   | Time: 0.006296 | Ratio: 2.52e-08\n",
            "N: 1000  | Time: 0.025390 | Ratio: 2.54e-08\n",
            "N: 2000  | Time: 0.096278 | Ratio: 2.41e-08\n",
            "N: 4000  | Time: 0.382251 | Ratio: 2.39e-08\n",
            "N: 8000  | Time: 2.807260 | Ratio: 4.39e-08\n"
          ]
        }
      ]
    },
    {
      "cell_type": "code",
      "source": [
        "# Timing on sorted data\n",
        "\n",
        "for n in N:\n",
        "\n",
        "    expected_time=n\n",
        "\n",
        "    my_list = list(range(n))\n",
        "    start_time = time.time()\n",
        "    insertion_sort(my_list)\n",
        "    end_time = time.time()\n",
        "\n",
        "    elapsed_time = end_time - start_time\n",
        "    ratio = elapsed_time / expected_time if expected_time > 0 else 0\n",
        "\n",
        "    print(f\"N: {n:<6} | Time: {elapsed_time:<.6f} | Ratio: {ratio:.2e}\")"
      ],
      "metadata": {
        "id": "1zrY7IKCcit-",
        "outputId": "0afda098-27b8-47c5-a810-480e4b21985d",
        "colab": {
          "base_uri": "https://localhost:8080/"
        }
      },
      "execution_count": 12,
      "outputs": [
        {
          "output_type": "stream",
          "name": "stdout",
          "text": [
            "N: 500    | Time: 0.000092 | Ratio: 1.84e-07\n",
            "N: 1000   | Time: 0.000193 | Ratio: 1.93e-07\n",
            "N: 2000   | Time: 0.000390 | Ratio: 1.95e-07\n",
            "N: 4000   | Time: 0.000790 | Ratio: 1.98e-07\n",
            "N: 8000   | Time: 0.002877 | Ratio: 3.60e-07\n"
          ]
        }
      ]
    }
  ]
}