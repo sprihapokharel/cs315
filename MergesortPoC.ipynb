{
  "nbformat": 4,
  "nbformat_minor": 0,
  "metadata": {
    "colab": {
      "provenance": [],
      "include_colab_link": true
    },
    "kernelspec": {
      "name": "python3",
      "display_name": "Python 3"
    },
    "language_info": {
      "name": "python"
    }
  },
  "cells": [
    {
      "cell_type": "markdown",
      "metadata": {
        "id": "view-in-github",
        "colab_type": "text"
      },
      "source": [
        "<a href=\"https://colab.research.google.com/github/sprihapokharel/cs315/blob/main/MergesortPoC.ipynb\" target=\"_parent\"><img src=\"https://colab.research.google.com/assets/colab-badge.svg\" alt=\"Open In Colab\"/></a>"
      ]
    },
    {
      "cell_type": "code",
      "source": [
        "# Name: Spriha Pokharel\n",
        "# Date: 10/05/25\n",
        "# Class: CS315 (FA25)\n",
        "# Homework 04: Merge sort"
      ],
      "metadata": {
        "id": "mUVIaM3swEl1"
      },
      "execution_count": null,
      "outputs": []
    },
    {
      "cell_type": "code",
      "source": [
        "import time\n",
        "import random\n",
        "import math\n"
      ],
      "metadata": {
        "id": "LMcLd_etm-0Y"
      },
      "execution_count": null,
      "outputs": []
    },
    {
      "cell_type": "code",
      "source": [
        "# Implementation of mergesort\n",
        "\n",
        "def Merge(A, p, q, r):\n",
        "    nL = q - p + 1\n",
        "    nR = r - q\n",
        "\n",
        "    Left = []\n",
        "    Right = []\n",
        "\n",
        "    for i in range(nL): Left.append(A[p + i])\n",
        "    for j in range(nR): Right.append(A[q + j + 1])\n",
        "\n",
        "    i=j=0 # Initial index of first and second subarrays\n",
        "    k=p   # Initial index of merged subarray\n",
        "    while i<nL and j<nR:\n",
        "        if Left[i] <= Right[j]:\n",
        "            A[k]=Left[i]\n",
        "            i+=1\n",
        "        else:\n",
        "            A[k]=Right[j]\n",
        "            j+=1\n",
        "        k+=1\n",
        "\n",
        "    while i<nL: A[k]=Left[i]; i+=1; k+=1\n",
        "    while j<nR: A[k]=Right[j]; j+=1; k+=1\n",
        "\n",
        "def MergeSort(A, p, r):\n",
        "    if p < r:\n",
        "        # Find the middle point to divide the array into two halves\n",
        "        q = (p + r) // 2\n",
        "\n",
        "        MergeSort(A, p, q)\n",
        "        MergeSort(A, q + 1, r)\n",
        "\n",
        "        # Merge the two halves\n",
        "        Merge(A, p, q, r)"
      ],
      "metadata": {
        "id": "TyWIYm1_nIYR"
      },
      "execution_count": null,
      "outputs": []
    },
    {
      "cell_type": "code",
      "source": [
        "# Timing random data\n",
        "\n",
        "for n in [100, 200, 400, 800]:\n",
        "\n",
        "    expected_time = n * math.log2(n) if n > 1 else n\n",
        "\n",
        "    # Creating a random list\n",
        "    my_list = [random.randrange(n) for _ in range(n)]\n",
        "\n",
        "    # Timing the algorithm\n",
        "    start_time = time.time()\n",
        "    MergeSort(my_list, 0, n - 1)\n",
        "    end_time = time.time()\n",
        "\n",
        "    # Calculating time and ratio\n",
        "    elapsed_time = end_time - start_time\n",
        "    ratio = elapsed_time / expected_time if expected_time > 0 else 0\n",
        "\n",
        "    print(f\"N: {n:<5} | Time: {elapsed_time:<.6f} | Ratio: {ratio:.2e}\")"
      ],
      "metadata": {
        "colab": {
          "base_uri": "https://localhost:8080/"
        },
        "id": "Xw1pa-SYqZK3",
        "outputId": "030a1c3c-4b53-4a9e-e1ef-8b622a01fc00"
      },
      "execution_count": null,
      "outputs": [
        {
          "output_type": "stream",
          "name": "stdout",
          "text": [
            "N: 100   | Time: 0.000157 | Ratio: 2.37e-07\n",
            "N: 200   | Time: 0.000363 | Ratio: 2.37e-07\n",
            "N: 400   | Time: 0.000840 | Ratio: 2.43e-07\n",
            "N: 800   | Time: 0.002967 | Ratio: 3.85e-07\n"
          ]
        }
      ]
    },
    {
      "cell_type": "code",
      "source": [
        "# Timing sorted data\n",
        "\n",
        "for n in [100, 200, 400, 800]:\n",
        "\n",
        "    expected_time = n * math.log2(n) if n > 1 else n\n",
        "\n",
        "    my_list = list(range(n))\n",
        "\n",
        "    start_time = time.time()\n",
        "    MergeSort(my_list, 0, n - 1)\n",
        "    end_time = time.time()\n",
        "\n",
        "    elapsed_time = end_time - start_time\n",
        "    ratio = elapsed_time / expected_time if expected_time > 0 else 0\n",
        "\n",
        "    print(f\"N: {n:<5} | Time: {elapsed_time:<.6f} | Ratio: {ratio:.2e}\")"
      ],
      "metadata": {
        "colab": {
          "base_uri": "https://localhost:8080/"
        },
        "id": "VMr35t_jq4N3",
        "outputId": "27e57f92-1dab-4ee7-bc0b-488f01fa4b29"
      },
      "execution_count": null,
      "outputs": [
        {
          "output_type": "stream",
          "name": "stdout",
          "text": [
            "N: 100   | Time: 0.000280 | Ratio: 4.21e-07\n",
            "N: 200   | Time: 0.000521 | Ratio: 3.41e-07\n",
            "N: 400   | Time: 0.001257 | Ratio: 3.64e-07\n",
            "N: 800   | Time: 0.004964 | Ratio: 6.43e-07\n"
          ]
        }
      ]
    }
  ]
}