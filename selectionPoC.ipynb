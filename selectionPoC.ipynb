{
  "nbformat": 4,
  "nbformat_minor": 0,
  "metadata": {
    "colab": {
      "provenance": [],
      "include_colab_link": true
    },
    "kernelspec": {
      "name": "python3",
      "display_name": "Python 3"
    },
    "language_info": {
      "name": "python"
    }
  },
  "cells": [
    {
      "cell_type": "markdown",
      "metadata": {
        "id": "view-in-github",
        "colab_type": "text"
      },
      "source": [
        "<a href=\"https://colab.research.google.com/github/sprihapokharel/cs315/blob/main/selectionPoC.ipynb\" target=\"_parent\"><img src=\"https://colab.research.google.com/assets/colab-badge.svg\" alt=\"Open In Colab\"/></a>"
      ]
    },
    {
      "cell_type": "code",
      "execution_count": null,
      "metadata": {
        "id": "tZGwopH4Y7oL"
      },
      "outputs": [],
      "source": [
        "# Template for testing Selection Sort on small lists, outputing each intermediate step"
      ]
    },
    {
      "cell_type": "code",
      "source": [
        "# Name: Spriha Pokharel\n",
        "# Date: 10/05/25\n",
        "# Class: CS315 (FA25)\n",
        "# Homework 04: Mergesort"
      ],
      "metadata": {
        "id": "AwyjUxl_tFzF"
      },
      "execution_count": null,
      "outputs": []
    },
    {
      "cell_type": "code",
      "source": [
        "import time\n",
        "import random\n",
        "import math"
      ],
      "metadata": {
        "id": "fSME9MywceAq"
      },
      "execution_count": null,
      "outputs": []
    },
    {
      "cell_type": "code",
      "source": [
        "# Implementation of selection sort: finding the minimum from the unsorted parts of the list and putting it in the beginning.\n",
        "\n",
        "def selection_sort(arr):\n",
        "    n = len(arr)\n",
        "    for i in range(n):\n",
        "        min = i\n",
        "        for j in range(i + 1, n):\n",
        "            if arr[j] < arr[min]:\n",
        "                min = j\n",
        "        # swapping the minimum with the first element\n",
        "        arr[i], arr[min] = arr[min], arr[i]\n",
        "\n",
        "# for your convenience, the psuedocode from class is provided, and note that you don't really need line 1, you can handle that in the outer for loop statement\n",
        "#n = length[A]\n",
        "#for i=1 to n-1:\n",
        "#   smallest = i\n",
        "#   for j=i+1 to n:\n",
        "#      if A[smallest] > A[j]\n",
        "#         then smallest = j\n",
        "#   Swap A[i] with A[smallest]"
      ],
      "metadata": {
        "id": "TJZL4jFQZhAp"
      },
      "execution_count": null,
      "outputs": []
    },
    {
      "cell_type": "code",
      "source": [
        "# Timing on random data\n",
        "\n",
        "N = [500, 1000, 2000, 4000, 8000]\n",
        "for n in N:\n",
        "\n",
        "    # Defining the expected runtime\n",
        "    expected_time = math.pow(n, 2)\n",
        "\n",
        "    my_list = [random.randrange(n) for _ in range(n)]\n",
        "    start_time = time.time()\n",
        "    selection_sort(my_list)\n",
        "    end_time = time.time()\n",
        "\n",
        "    # Calculating actual time taken\n",
        "    elapsed_time = end_time - start_time\n",
        "\n",
        "    ratio = elapsed_time / expected_time\n",
        "\n",
        "    print(f\"N: {n:<5} | Time: {elapsed_time:<.6f} | Ratio: {ratio:.2e}\")\n"
      ],
      "metadata": {
        "id": "f1GS3NjwZqmS",
        "colab": {
          "base_uri": "https://localhost:8080/"
        },
        "outputId": "e7c7fa56-3ba0-4a2d-aa2f-59fca6fd1227"
      },
      "execution_count": null,
      "outputs": [
        {
          "output_type": "stream",
          "name": "stdout",
          "text": [
            "N: 500   | Time: 0.007146 | Ratio (Time/N^2): 2.86e-08\n",
            "N: 1000  | Time: 0.026587 | Ratio (Time/N^2): 2.66e-08\n",
            "N: 2000  | Time: 0.097181 | Ratio (Time/N^2): 2.43e-08\n",
            "N: 4000  | Time: 0.415456 | Ratio (Time/N^2): 2.60e-08\n",
            "N: 8000  | Time: 1.572626 | Ratio (Time/N^2): 2.46e-08\n"
          ]
        }
      ]
    },
    {
      "cell_type": "code",
      "source": [
        "# Timing on sorted data\n",
        "\n",
        "for n in N:\n",
        "\n",
        "    # Defining the expected runtime\n",
        "\n",
        "    expected_time = math.pow(n, 2)\n",
        "    my_list = list(range(n))\n",
        "    start_time = time.time()\n",
        "    selection_sort(my_list)\n",
        "    end_time = time.time()\n",
        "\n",
        "\n",
        "    # Calculate the actual time taken\n",
        "    elapsed_time = end_time - start_time\n",
        "\n",
        "    # Calculate the ratio\n",
        "    ratio = elapsed_time / expected_time\n",
        "\n",
        "    # Display the results\n",
        "    print(f\"N: {n:<5} | Time: {elapsed_time:<.6f} | Ratio: {ratio:.2e}\")"
      ],
      "metadata": {
        "colab": {
          "base_uri": "https://localhost:8080/"
        },
        "id": "XvQMQ51tabmi",
        "outputId": "2d80a88c-d589-468e-8c0d-6a44e5091f62"
      },
      "execution_count": null,
      "outputs": [
        {
          "output_type": "stream",
          "name": "stdout",
          "text": [
            "N: 500   | Time: 0.007237 | Ratio: 2.89e-08\n",
            "N: 1000  | Time: 0.025040 | Ratio: 2.50e-08\n",
            "N: 2000  | Time: 0.098015 | Ratio: 2.45e-08\n",
            "N: 4000  | Time: 0.394273 | Ratio: 2.46e-08\n",
            "N: 8000  | Time: 1.617441 | Ratio: 2.53e-08\n"
          ]
        }
      ]
    }
  ]
}