{
  "nbformat": 4,
  "nbformat_minor": 0,
  "metadata": {
    "colab": {
      "provenance": [],
      "include_colab_link": true
    },
    "kernelspec": {
      "name": "python3",
      "display_name": "Python 3"
    },
    "language_info": {
      "name": "python"
    }
  },
  "cells": [
    {
      "cell_type": "markdown",
      "metadata": {
        "id": "view-in-github",
        "colab_type": "text"
      },
      "source": [
        "<a href=\"https://colab.research.google.com/github/sprihapokharel/cs315/blob/main/selectionPoC.ipynb\" target=\"_parent\"><img src=\"https://colab.research.google.com/assets/colab-badge.svg\" alt=\"Open In Colab\"/></a>"
      ]
    },
    {
      "cell_type": "code",
      "execution_count": 1,
      "metadata": {
        "id": "tZGwopH4Y7oL"
      },
      "outputs": [],
      "source": [
        "# Template for testing Selection Sort on small lists, outputing each intermediate step"
      ]
    },
    {
      "cell_type": "code",
      "source": [
        "import time\n",
        "import random"
      ],
      "metadata": {
        "id": "fSME9MywceAq"
      },
      "execution_count": 2,
      "outputs": []
    },
    {
      "cell_type": "code",
      "source": [
        "def selection_sort(arr):\n",
        "    n = len(arr)\n",
        "    for i in range(n):\n",
        "        min = i\n",
        "        for j in range(i + 1, n):\n",
        "            if arr[j] < arr[min]:\n",
        "                min = j\n",
        "        arr[i], arr[min] = arr[min], arr[i]\n",
        "\n",
        "# for your convenience, the psuedocode from class is provided, and note that you don't really need line 1, you can handle that in the outer for loop statement\n",
        "#n = length[A]\n",
        "#for i=1 to n-1:\n",
        "#   smallest = i\n",
        "#   for j=i+1 to n:\n",
        "#      if A[smallest] > A[j]\n",
        "#         then smallest = j\n",
        "#   Swap A[i] with A[smallest]"
      ],
      "metadata": {
        "id": "TJZL4jFQZhAp"
      },
      "execution_count": 3,
      "outputs": []
    },
    {
      "cell_type": "code",
      "source": [
        "# Timing on random data\n",
        "\n",
        "N = [500, 1000, 2000, 4000, 8000]\n",
        "for n in N:\n",
        "    my_list = [random.randrange(n) for _ in range(n)]\n",
        "    start_time = time.time()\n",
        "    selection_sort(my_list)\n",
        "    end_time = time.time()\n",
        "    print(f\"N={n}, Time={end_time - start_time:.6f} sec\")\n"
      ],
      "metadata": {
        "id": "f1GS3NjwZqmS",
        "colab": {
          "base_uri": "https://localhost:8080/"
        },
        "outputId": "3663701f-7670-4297-dfed-65828a9a59c8"
      },
      "execution_count": 4,
      "outputs": [
        {
          "output_type": "stream",
          "name": "stdout",
          "text": [
            "N=500, Time=0.015998 sec\n",
            "N=1000, Time=0.055705 sec\n",
            "N=2000, Time=0.188704 sec\n",
            "N=4000, Time=1.191851 sec\n",
            "N=8000, Time=3.622719 sec\n"
          ]
        }
      ]
    },
    {
      "cell_type": "code",
      "source": [
        "# Timing on sorted data\n",
        "\n",
        "for n in N:\n",
        "    my_list = list(range(n))\n",
        "    start_time = time.time()\n",
        "    selection_sort(my_list)\n",
        "    end_time = time.time()\n",
        "    print(f\"N={n}, Time={end_time - start_time:.6f} sec\")"
      ],
      "metadata": {
        "colab": {
          "base_uri": "https://localhost:8080/"
        },
        "id": "XvQMQ51tabmi",
        "outputId": "530c5f7e-60d8-4e84-c4e8-bea164cc0b29"
      },
      "execution_count": 5,
      "outputs": [
        {
          "output_type": "stream",
          "name": "stdout",
          "text": [
            "N=500, Time=0.007186 sec\n",
            "N=1000, Time=0.026699 sec\n",
            "N=2000, Time=0.098114 sec\n",
            "N=4000, Time=0.408879 sec\n",
            "N=8000, Time=1.630407 sec\n"
          ]
        }
      ]
    }
  ]
}