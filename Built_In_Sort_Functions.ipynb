{
  "nbformat": 4,
  "nbformat_minor": 0,
  "metadata": {
    "colab": {
      "provenance": [],
      "authorship_tag": "ABX9TyPrheaRI9tESgYXJoCgu/iS",
      "include_colab_link": true
    },
    "kernelspec": {
      "name": "python3",
      "display_name": "Python 3"
    },
    "language_info": {
      "name": "python"
    }
  },
  "cells": [
    {
      "cell_type": "markdown",
      "metadata": {
        "id": "view-in-github",
        "colab_type": "text"
      },
      "source": [
        "<a href=\"https://colab.research.google.com/github/sprihapokharel/cs315/blob/main/Built_In_Sort_Functions.ipynb\" target=\"_parent\"><img src=\"https://colab.research.google.com/assets/colab-badge.svg\" alt=\"Open In Colab\"/></a>"
      ]
    },
    {
      "cell_type": "code",
      "execution_count": 7,
      "metadata": {
        "id": "woK2Hg4JixZu"
      },
      "outputs": [],
      "source": [
        "import time\n",
        "import random\n",
        "\n",
        "# A is a flag to print lists. Set to False for timing.\n",
        "A = False"
      ]
    },
    {
      "cell_type": "code",
      "source": [
        "# .sorted() on random data\n",
        "\n",
        "\n",
        "N = [200000, 400000, 800000, 1600000]\n",
        "for n in N:\n",
        "    my_list = [random.randrange(n) for _ in range(n)]\n",
        "    if A: print(\"Before:\", my_list)\n",
        "\n",
        "    start_time = time.time()\n",
        "    sorted_list = sorted(my_list)\n",
        "    end_time = time.time()\n",
        "\n",
        "    if A: print(\"After: \", sorted_list)\n",
        "    print(f\"N={n}, Time={end_time - start_time:.6f} sec\")\n",
        "\n",
        "# sorted data\n",
        "\n",
        "for n in N:\n",
        "    my_list = list(range(n))\n",
        "    if A: print(\"Before:\", my_list)\n",
        "\n",
        "    start_time = time.time()\n",
        "    sorted_list = sorted(my_list)\n",
        "    end_time = time.time()\n",
        "\n",
        "    if A: print(\"After: \", sorted_list)\n",
        "    print(f\"N={n}, Time={end_time - start_time:.6f} sec\")"
      ],
      "metadata": {
        "colab": {
          "base_uri": "https://localhost:8080/"
        },
        "id": "fF5ElRdJi8Ac",
        "outputId": "05590927-4e23-420a-bb7e-1d0d7f4b8387"
      },
      "execution_count": 8,
      "outputs": [
        {
          "output_type": "stream",
          "name": "stdout",
          "text": [
            "N=200000, Time=0.090877 sec\n",
            "N=400000, Time=0.182257 sec\n",
            "N=800000, Time=0.378653 sec\n",
            "N=1600000, Time=0.859747 sec\n",
            "N=200000, Time=0.106250 sec\n",
            "N=400000, Time=0.011881 sec\n",
            "N=800000, Time=0.018358 sec\n",
            "N=1600000, Time=0.041349 sec\n"
          ]
        }
      ]
    },
    {
      "cell_type": "code",
      "source": [
        "# .sort() on random data\n",
        "\n",
        "for n in N:\n",
        "    my_list = [random.randrange(n) for _ in range(n)]\n",
        "    if A: print(\"Before:\", my_list)\n",
        "\n",
        "    start_time = time.time()\n",
        "    my_list.sort()\n",
        "    end_time = time.time()\n",
        "\n",
        "    if A: print(\"After: \", my_list)\n",
        "    print(f\"N={n}, Time={end_time - start_time:.6f} sec\")\n",
        "\n",
        "# sorted data\n",
        "\n",
        "for n in N:\n",
        "    my_list = list(range(n))\n",
        "    if A: print(\"Before:\", my_list)\n",
        "\n",
        "    start_time = time.time()\n",
        "    my_list.sort()\n",
        "    end_time = time.time()\n",
        "\n",
        "    if A: print(\"After: \", my_list)\n",
        "    print(f\"N={n}, Time={end_time - start_time:.6f} sec\")\n",
        "\n",
        "\n"
      ],
      "metadata": {
        "colab": {
          "base_uri": "https://localhost:8080/"
        },
        "id": "3Fwlo7gojBil",
        "outputId": "59e324af-665d-451b-8bf5-08cb6f7444d9"
      },
      "execution_count": 9,
      "outputs": [
        {
          "output_type": "stream",
          "name": "stdout",
          "text": [
            "N=200000, Time=0.063461 sec\n",
            "N=400000, Time=0.171216 sec\n",
            "N=800000, Time=0.338576 sec\n",
            "N=1600000, Time=0.774231 sec\n",
            "N=200000, Time=0.003114 sec\n",
            "N=400000, Time=0.004341 sec\n",
            "N=800000, Time=0.007574 sec\n",
            "N=1600000, Time=0.014189 sec\n"
          ]
        }
      ]
    },
    {
      "cell_type": "markdown",
      "source": [
        "### Analysis of Built-in Sort Functions\n",
        "\n",
        "\n",
        "* **On Random Data:** The timing seems to have an average-case runtime of **$\\Theta(n \\log n)$**.\n",
        "\n",
        "* **On Sorted Data:** The functions are very fast on data that is already sorted, which demonstrates the best-case runtime of **$\\Theta(N)$**.\n",
        "\n",
        "Python's built-in sorting seems to be fairly effective. It achieves `n log n` runtime on average and `N` runtime on already sorted data."
      ],
      "metadata": {
        "id": "gcsvPitYjdUp"
      }
    }
  ]
}