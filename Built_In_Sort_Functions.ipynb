{
  "nbformat": 4,
  "nbformat_minor": 0,
  "metadata": {
    "colab": {
      "provenance": [],
      "authorship_tag": "ABX9TyMQh5wdXdKPxT94aTZ2ZihS",
      "include_colab_link": true
    },
    "kernelspec": {
      "name": "python3",
      "display_name": "Python 3"
    },
    "language_info": {
      "name": "python"
    }
  },
  "cells": [
    {
      "cell_type": "markdown",
      "metadata": {
        "id": "view-in-github",
        "colab_type": "text"
      },
      "source": [
        "<a href=\"https://colab.research.google.com/github/sprihapokharel/cs315/blob/main/Built_In_Sort_Functions.ipynb\" target=\"_parent\"><img src=\"https://colab.research.google.com/assets/colab-badge.svg\" alt=\"Open In Colab\"/></a>"
      ]
    },
    {
      "cell_type": "code",
      "source": [
        "\n",
        "# Name: Spriha Pokharel\n",
        "# Date: 10/05/25\n",
        "# Class: CS315 (FA25)\n",
        "# Homework 04: Build-in sort functions"
      ],
      "metadata": {
        "id": "PJ0QukfKxvPq"
      },
      "execution_count": null,
      "outputs": []
    },
    {
      "cell_type": "code",
      "execution_count": 4,
      "metadata": {
        "id": "woK2Hg4JixZu"
      },
      "outputs": [],
      "source": [
        "import time\n",
        "import random\n",
        "import math"
      ]
    },
    {
      "cell_type": "code",
      "source": [
        "# .sorted() on random data\n",
        "\n",
        "for n in [1000, 10000, 100000, 1000000]:\n",
        "\n",
        "    expected_time = n * math.log2(n) if n > 1 else n\n",
        "    my_list = [random.randrange(n) for _ in range(n)]\n",
        "\n",
        "    start_time = time.time()\n",
        "    sorted_list = sorted(my_list)\n",
        "    end_time = time.time()\n",
        "\n",
        "    elapsed_time = end_time - start_time\n",
        "    ratio = elapsed_time / expected_time if expected_time > 0 else 0\n",
        "    print(f\"N: {n:<7} | Time: {elapsed_time:<.6f} | Ratio: {ratio:.2e}\")\n",
        "\n",
        "# on sorted data\n",
        "\n",
        "for n in [1000, 10000, 100000, 1000000]:\n",
        "\n",
        "    expected_time = n\n",
        "    my_list = list(range(n))\n",
        "\n",
        "    start_time = time.time()\n",
        "    sorted_list = sorted(my_list)\n",
        "    end_time = time.time()\n",
        "\n",
        "    elapsed_time = end_time - start_time\n",
        "    ratio = elapsed_time / expected_time if expected_time > 0 else 0\n",
        "    print(f\"N: {n:<7} | Time: {elapsed_time:<.6f} | Ratio: {ratio:.2e}\")"
      ],
      "metadata": {
        "colab": {
          "base_uri": "https://localhost:8080/"
        },
        "id": "fF5ElRdJi8Ac",
        "outputId": "aa14c1e9-ce67-4a14-eab8-242b0aa5edbf"
      },
      "execution_count": 5,
      "outputs": [
        {
          "output_type": "stream",
          "name": "stdout",
          "text": [
            "N: 1000    | Time: 0.021179 | Ratio: 2.13e-06\n",
            "N: 10000   | Time: 0.001981 | Ratio: 1.49e-08\n",
            "N: 100000  | Time: 0.031876 | Ratio: 1.92e-08\n",
            "N: 1000000 | Time: 0.436212 | Ratio: 2.19e-08\n",
            "N: 1000    | Time: 0.056645 | Ratio: 5.66e-05\n",
            "N: 10000   | Time: 0.000107 | Ratio: 1.07e-08\n",
            "N: 100000  | Time: 0.001606 | Ratio: 1.61e-08\n",
            "N: 1000000 | Time: 0.018005 | Ratio: 1.80e-08\n"
          ]
        }
      ]
    },
    {
      "cell_type": "code",
      "source": [
        "# .sort() on random data\n",
        "\n",
        "for n in [1000, 10000, 100000, 1000000]:\n",
        "    expected_time = n * math.log2(n) if n > 1 else n\n",
        "    my_list = [random.randrange(n) for _ in range(n)]\n",
        "\n",
        "    start_time = time.time()\n",
        "\n",
        "    my_list.sort()\n",
        "    end_time = time.time()\n",
        "\n",
        "    elapsed_time = end_time - start_time\n",
        "    ratio = elapsed_time / expected_time if expected_time > 0 else 0\n",
        "    print(f\"N: {n:<7} | Time: {elapsed_time:<.6f} | Ratio (Time/NlogN): {ratio:.2e}\")\n",
        "\n",
        "# on sorted data\n",
        "\n",
        "for n in [1000, 10000, 100000, 1000000]:\n",
        "    expected_time = n\n",
        "    my_list = list(range(n))\n",
        "\n",
        "    start_time = time.time()\n",
        "    my_list.sort()\n",
        "    end_time = time.time()\n",
        "\n",
        "    elapsed_time = end_time - start_time\n",
        "    ratio = elapsed_time / expected_time if expected_time > 0 else 0\n",
        "    print(f\"N: {n:<7} | Time: {elapsed_time:<.6f} | Ratio: {ratio:.2e}\")\n",
        "\n",
        "\n"
      ],
      "metadata": {
        "colab": {
          "base_uri": "https://localhost:8080/"
        },
        "id": "3Fwlo7gojBil",
        "outputId": "250ee38a-6467-4215-f8b3-8882efa42107"
      },
      "execution_count": 6,
      "outputs": [
        {
          "output_type": "stream",
          "name": "stdout",
          "text": [
            "N: 1000    | Time: 0.000498 | Ratio (Time/NlogN): 5.00e-08\n",
            "N: 10000   | Time: 0.001978 | Ratio (Time/NlogN): 1.49e-08\n",
            "N: 100000  | Time: 0.026014 | Ratio (Time/NlogN): 1.57e-08\n",
            "N: 1000000 | Time: 0.418816 | Ratio (Time/NlogN): 2.10e-08\n",
            "N: 1000    | Time: 0.000491 | Ratio: 4.91e-07\n",
            "N: 10000   | Time: 0.000050 | Ratio: 5.01e-09\n",
            "N: 100000  | Time: 0.000944 | Ratio: 9.44e-09\n",
            "N: 1000000 | Time: 0.007876 | Ratio: 7.88e-09\n"
          ]
        }
      ]
    },
    {
      "cell_type": "markdown",
      "source": [
        "### Analysis of Built-in Sort Functions\n",
        "\n",
        "\n",
        "* **On Random Data:** The timing seems to have an average-case runtime of **$\\Theta(n \\log n)$**.\n",
        "\n",
        "* **On Sorted Data:** The functions are very fast on data that is already sorted, which demonstrates the best-case runtime of **$\\Theta(N)$**.\n",
        "\n",
        "Python's built-in sorting seems to be fairly effective. It achieves `n log n` runtime on average and `N` runtime on already sorted data."
      ],
      "metadata": {
        "id": "gcsvPitYjdUp"
      }
    }
  ]
}